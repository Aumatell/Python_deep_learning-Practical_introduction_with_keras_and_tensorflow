{
  "nbformat": 4,
  "nbformat_minor": 0,
  "metadata": {
    "colab": {
      "name": "4.Neural_networks_densly_conected.ipynb",
      "provenance": [],
      "authorship_tag": "ABX9TyPBZY9cBT107H/zF+MH3rpn",
      "include_colab_link": true
    },
    "kernelspec": {
      "name": "python3",
      "display_name": "Python 3"
    },
    "language_info": {
      "name": "python"
    }
  },
  "cells": [
    {
      "cell_type": "markdown",
      "metadata": {
        "id": "view-in-github",
        "colab_type": "text"
      },
      "source": [
        "<a href=\"https://colab.research.google.com/github/Aumatell/Python_deep_learning-Practical_introduction_with_keras_and_tensorflow/blob/main/4_Neural_networks_densly_conected.ipynb\" target=\"_parent\"><img src=\"https://colab.research.google.com/assets/colab-badge.svg\" alt=\"Open In Colab\"/></a>"
      ]
    },
    {
      "cell_type": "markdown",
      "source": [
        "4.1 Case of study : Digit recognition"
      ],
      "metadata": {
        "id": "ZskF1UP-Jn6W"
      }
    },
    {
      "cell_type": "markdown",
      "source": [
        "MNIST database contains images of hand-written digits. This data is accessible from their website."
      ],
      "metadata": {
        "id": "s0PnS9prJ3lG"
      }
    },
    {
      "cell_type": "markdown",
      "source": [
        "The images are in a 20X20 pixel resolution centred in a 28x28 image. The image is represented by a 28x28 matrix ith values ranging from 0 or white to 255 for black. Each image has also a tag ith th value it represents(0-9). "
      ],
      "metadata": {
        "id": "6hsZG8j6KtJe"
      }
    },
    {
      "cell_type": "markdown",
      "source": [
        "4.2 An artificial neuron"
      ],
      "metadata": {
        "id": "wKGa3dGxL1QK"
      }
    },
    {
      "cell_type": "markdown",
      "source": [
        "4.2.1 Introduction to terminology and basic notation"
      ],
      "metadata": {
        "id": "_2oP6AvyL5fQ"
      }
    },
    {
      "cell_type": "markdown",
      "source": [
        "4.2.2 Regression algorithms"
      ],
      "metadata": {
        "id": "G8jyLl5fMBtW"
      }
    },
    {
      "cell_type": "markdown",
      "source": [
        "4.2.3 A simple artificial neuron"
      ],
      "metadata": {
        "id": "HuGWfWUOMPtH"
      }
    },
    {
      "cell_type": "markdown",
      "source": [
        "4.3 Neural networks"
      ],
      "metadata": {
        "id": "qhWQtRZ6MR2K"
      }
    },
    {
      "cell_type": "markdown",
      "source": [
        "4.3.1 Perceptron"
      ],
      "metadata": {
        "id": "RpCYt8FkMa3i"
      }
    },
    {
      "cell_type": "markdown",
      "source": [
        "4.3.2 Multilayer perceptron"
      ],
      "metadata": {
        "id": "BIzO-FuiMRmK"
      }
    },
    {
      "cell_type": "markdown",
      "source": [
        "4.3.3 Multilayer perceptron for classification"
      ],
      "metadata": {
        "id": "MAFT98A0MRLO"
      }
    },
    {
      "cell_type": "markdown",
      "source": [
        "4.4 Softmax activation function"
      ],
      "metadata": {
        "id": "dzNJvQ6HM6wh"
      }
    }
  ]
}