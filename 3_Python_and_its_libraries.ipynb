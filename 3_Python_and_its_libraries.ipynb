{
  "nbformat": 4,
  "nbformat_minor": 0,
  "metadata": {
    "colab": {
      "name": "3-Python_and_its_libraries.ipynb",
      "provenance": [],
      "authorship_tag": "ABX9TyPnEIyOHJTjWhRXqLLTJhtE",
      "include_colab_link": true
    },
    "kernelspec": {
      "name": "python3",
      "display_name": "Python 3"
    },
    "language_info": {
      "name": "python"
    },
    "accelerator": "GPU"
  },
  "cells": [
    {
      "cell_type": "markdown",
      "metadata": {
        "id": "view-in-github",
        "colab_type": "text"
      },
      "source": [
        "<a href=\"https://colab.research.google.com/github/Aumatell/Python_deep_learning-Practical_introduction_with_keras_and_tensorflow/blob/main/3_Python_and_its_libraries.ipynb\" target=\"_parent\"><img src=\"https://colab.research.google.com/assets/colab-badge.svg\" alt=\"Open In Colab\"/></a>"
      ]
    },
    {
      "cell_type": "code",
      "execution_count": null,
      "metadata": {
        "colab": {
          "base_uri": "https://localhost:8080/"
        },
        "id": "TT0wrrbjpV_G",
        "outputId": "98b61bf2-ab31-4523-fe60-f65a35c87ad5"
      },
      "outputs": [
        {
          "output_type": "stream",
          "name": "stdout",
          "text": [
            "\n",
            "Welcome to Python 3.7's help utility!\n",
            "\n",
            "If this is your first time using Python, you should definitely check out\n",
            "the tutorial on the Internet at https://docs.python.org/3.7/tutorial/.\n",
            "\n",
            "Enter the name of any module, keyword, or topic to get help on writing\n",
            "Python programs and using Python modules.  To quit this help utility and\n",
            "return to the interpreter, just type \"quit\".\n",
            "\n",
            "To get a list of available modules, keywords, symbols, or topics, type\n",
            "\"modules\", \"keywords\", \"symbols\", or \"topics\".  Each module also comes\n",
            "with a one-line summary of what it does; to list the modules whose name\n",
            "or summary contain a given string such as \"spam\", type \"modules spam\".\n",
            "\n",
            "help> \n",
            "\n",
            "You are now leaving help and returning to the Python interpreter.\n",
            "If you want to ask for help on a particular object directly from the\n",
            "interpreter, you can type \"help(object)\".  Executing \"help('string')\"\n",
            "has the same effect as typing a particular string at the help> prompt.\n"
          ]
        }
      ],
      "source": [
        "help()"
      ]
    },
    {
      "cell_type": "code",
      "source": [
        "dir(str)"
      ],
      "metadata": {
        "colab": {
          "base_uri": "https://localhost:8080/"
        },
        "id": "8NqtsHSjqrqY",
        "outputId": "b7384a21-b05c-45bd-ea38-73e8c911db7e"
      },
      "execution_count": null,
      "outputs": [
        {
          "output_type": "execute_result",
          "data": {
            "text/plain": [
              "['__add__',\n",
              " '__class__',\n",
              " '__contains__',\n",
              " '__delattr__',\n",
              " '__dir__',\n",
              " '__doc__',\n",
              " '__eq__',\n",
              " '__format__',\n",
              " '__ge__',\n",
              " '__getattribute__',\n",
              " '__getitem__',\n",
              " '__getnewargs__',\n",
              " '__gt__',\n",
              " '__hash__',\n",
              " '__init__',\n",
              " '__init_subclass__',\n",
              " '__iter__',\n",
              " '__le__',\n",
              " '__len__',\n",
              " '__lt__',\n",
              " '__mod__',\n",
              " '__mul__',\n",
              " '__ne__',\n",
              " '__new__',\n",
              " '__reduce__',\n",
              " '__reduce_ex__',\n",
              " '__repr__',\n",
              " '__rmod__',\n",
              " '__rmul__',\n",
              " '__setattr__',\n",
              " '__sizeof__',\n",
              " '__str__',\n",
              " '__subclasshook__',\n",
              " 'capitalize',\n",
              " 'casefold',\n",
              " 'center',\n",
              " 'count',\n",
              " 'encode',\n",
              " 'endswith',\n",
              " 'expandtabs',\n",
              " 'find',\n",
              " 'format',\n",
              " 'format_map',\n",
              " 'index',\n",
              " 'isalnum',\n",
              " 'isalpha',\n",
              " 'isascii',\n",
              " 'isdecimal',\n",
              " 'isdigit',\n",
              " 'isidentifier',\n",
              " 'islower',\n",
              " 'isnumeric',\n",
              " 'isprintable',\n",
              " 'isspace',\n",
              " 'istitle',\n",
              " 'isupper',\n",
              " 'join',\n",
              " 'ljust',\n",
              " 'lower',\n",
              " 'lstrip',\n",
              " 'maketrans',\n",
              " 'partition',\n",
              " 'replace',\n",
              " 'rfind',\n",
              " 'rindex',\n",
              " 'rjust',\n",
              " 'rpartition',\n",
              " 'rsplit',\n",
              " 'rstrip',\n",
              " 'split',\n",
              " 'splitlines',\n",
              " 'startswith',\n",
              " 'strip',\n",
              " 'swapcase',\n",
              " 'title',\n",
              " 'translate',\n",
              " 'upper',\n",
              " 'zfill']"
            ]
          },
          "metadata": {},
          "execution_count": 2
        }
      ]
    },
    {
      "cell_type": "code",
      "source": [
        "from random import randint\n",
        "randomint = randint(1,100)\n",
        "print(randomint)"
      ],
      "metadata": {
        "colab": {
          "base_uri": "https://localhost:8080/"
        },
        "id": "XqKpo_hcquLl",
        "outputId": "943a650a-4a8b-4694-d3c1-b54b794cdf02"
      },
      "execution_count": null,
      "outputs": [
        {
          "output_type": "stream",
          "name": "stdout",
          "text": [
            "13\n"
          ]
        }
      ]
    },
    {
      "cell_type": "code",
      "source": [
        "import random\n",
        "randomint = random.randint(1,100)\n",
        "print(randomint)"
      ],
      "metadata": {
        "colab": {
          "base_uri": "https://localhost:8080/"
        },
        "id": "OZl4r6ZkrAGc",
        "outputId": "ae7bac82-0281-4e2e-d232-68f52c142088"
      },
      "execution_count": null,
      "outputs": [
        {
          "output_type": "stream",
          "name": "stdout",
          "text": [
            "11\n"
          ]
        }
      ]
    },
    {
      "cell_type": "markdown",
      "source": [
        "3.1.3 Variables, operators and data types"
      ],
      "metadata": {
        "id": "LhUGQzNmfIBA"
      }
    },
    {
      "cell_type": "markdown",
      "source": [
        "Data types"
      ],
      "metadata": {
        "id": "WWQzLI9lgEBA"
      }
    },
    {
      "cell_type": "code",
      "source": [
        "x=10\n",
        "print(x)\n",
        "print(type(x))"
      ],
      "metadata": {
        "id": "TrDpudHNrKTv",
        "outputId": "a36e506d-f9de-4363-b6b9-1b0e7146fe70",
        "colab": {
          "base_uri": "https://localhost:8080/"
        }
      },
      "execution_count": 1,
      "outputs": [
        {
          "output_type": "stream",
          "name": "stdout",
          "text": [
            "10\n",
            "<class 'int'>\n"
          ]
        }
      ]
    },
    {
      "cell_type": "code",
      "source": [
        "x=\"hola\"\n",
        "print(x)\n",
        "print(type(x))"
      ],
      "metadata": {
        "id": "Q3R6I2bhfZF2",
        "outputId": "41cdeddd-9274-42d7-9b86-64fb3f817a48",
        "colab": {
          "base_uri": "https://localhost:8080/"
        }
      },
      "execution_count": 1,
      "outputs": [
        {
          "output_type": "stream",
          "name": "stdout",
          "text": [
            "hola\n",
            "<class 'str'>\n"
          ]
        }
      ]
    },
    {
      "cell_type": "code",
      "source": [
        "x=10.0\n",
        "print(x)\n",
        "print(type(x))"
      ],
      "metadata": {
        "id": "JbIWFbcRf0YT",
        "outputId": "cc74fbfd-66ff-4aa4-b2cc-474c717391d2",
        "colab": {
          "base_uri": "https://localhost:8080/"
        }
      },
      "execution_count": 2,
      "outputs": [
        {
          "output_type": "stream",
          "name": "stdout",
          "text": [
            "10.0\n",
            "<class 'float'>\n"
          ]
        }
      ]
    },
    {
      "cell_type": "code",
      "source": [
        "x=True\n",
        "print(x)\n",
        "print(type(x))"
      ],
      "metadata": {
        "id": "dsNCmVeRf0Se",
        "outputId": "323073ef-8c60-4d3f-fbff-69eb50037d0b",
        "colab": {
          "base_uri": "https://localhost:8080/"
        }
      },
      "execution_count": 3,
      "outputs": [
        {
          "output_type": "stream",
          "name": "stdout",
          "text": [
            "True\n",
            "<class 'bool'>\n"
          ]
        }
      ]
    },
    {
      "cell_type": "markdown",
      "source": [
        "Operators"
      ],
      "metadata": {
        "id": "9jKrpXudgClr"
      }
    },
    {
      "cell_type": "code",
      "source": [
        "print(2/5)"
      ],
      "metadata": {
        "id": "MyVlupf8f0Mk",
        "outputId": "20f6fc7c-cdb2-4711-c3e4-ac7fb718a3c3",
        "colab": {
          "base_uri": "https://localhost:8080/"
        }
      },
      "execution_count": 4,
      "outputs": [
        {
          "output_type": "stream",
          "name": "stdout",
          "text": [
            "0.4\n"
          ]
        }
      ]
    },
    {
      "cell_type": "code",
      "source": [
        "print(5//2)"
      ],
      "metadata": {
        "id": "_Buf531Dfz-6",
        "outputId": "615e5a37-c15b-42ae-d491-77ab62ec53d5",
        "colab": {
          "base_uri": "https://localhost:8080/"
        }
      },
      "execution_count": 5,
      "outputs": [
        {
          "output_type": "stream",
          "name": "stdout",
          "text": [
            "2\n"
          ]
        }
      ]
    },
    {
      "cell_type": "code",
      "source": [
        "print(5%2)"
      ],
      "metadata": {
        "id": "P9Tg9z6kgJsX",
        "outputId": "514df4e6-efd9-49ed-a7e7-dfe73843bed2",
        "colab": {
          "base_uri": "https://localhost:8080/"
        }
      },
      "execution_count": 6,
      "outputs": [
        {
          "output_type": "stream",
          "name": "stdout",
          "text": [
            "1\n"
          ]
        }
      ]
    },
    {
      "cell_type": "code",
      "source": [
        "print(2**5)"
      ],
      "metadata": {
        "id": "pXumaRXhgJjX",
        "outputId": "011798ce-ba3c-4716-d16d-8c590e6b1f3b",
        "colab": {
          "base_uri": "https://localhost:8080/"
        }
      },
      "execution_count": 7,
      "outputs": [
        {
          "output_type": "stream",
          "name": "stdout",
          "text": [
            "32\n"
          ]
        }
      ]
    },
    {
      "cell_type": "code",
      "source": [
        "IntegerVar = 10\n",
        "IntegerVar += 10\n",
        "print(IntegerVar)"
      ],
      "metadata": {
        "id": "kb1NoOX8gJcT",
        "outputId": "fc0d6041-cac7-44d9-eb00-ef5f44fe64ed",
        "colab": {
          "base_uri": "https://localhost:8080/"
        }
      },
      "execution_count": 9,
      "outputs": [
        {
          "output_type": "stream",
          "name": "stdout",
          "text": [
            "20\n"
          ]
        }
      ]
    },
    {
      "cell_type": "code",
      "source": [
        "StringVar = \"Deep\"\n",
        "StringVar += \" learning\"\n",
        "print(StringVar)"
      ],
      "metadata": {
        "id": "R02r2EdvgJU2",
        "outputId": "1ae105b7-d31f-4015-8f30-ca914924ec85",
        "colab": {
          "base_uri": "https://localhost:8080/"
        }
      },
      "execution_count": 10,
      "outputs": [
        {
          "output_type": "stream",
          "name": "stdout",
          "text": [
            "Deep learning\n"
          ]
        }
      ]
    },
    {
      "cell_type": "code",
      "source": [
        "IntegerVar, StringVar = StringVar, IntegerVar\n",
        "print(IntegerVar)\n",
        "print(StringVar)"
      ],
      "metadata": {
        "id": "ptinzIObgJNa",
        "outputId": "f3cceb05-bda8-4f50-d710-643c86488df4",
        "colab": {
          "base_uri": "https://localhost:8080/"
        }
      },
      "execution_count": 11,
      "outputs": [
        {
          "output_type": "stream",
          "name": "stdout",
          "text": [
            "Deep learning\n",
            "20\n"
          ]
        }
      ]
    },
    {
      "cell_type": "markdown",
      "source": [
        "3.1.4 Types of data structures"
      ],
      "metadata": {
        "id": "juqTz0C7hBdc"
      }
    },
    {
      "cell_type": "code",
      "source": [
        "# list\n",
        "x = [5, \"hello\", 1.8]\n",
        "print(x)"
      ],
      "metadata": {
        "id": "NrlbWkYXgJFp",
        "outputId": "6c51b35c-0031-45f7-8cf9-6545f2ccda8e",
        "colab": {
          "base_uri": "https://localhost:8080/"
        }
      },
      "execution_count": 15,
      "outputs": [
        {
          "output_type": "stream",
          "name": "stdout",
          "text": [
            "[5, 'hello', 1.8]\n"
          ]
        }
      ]
    },
    {
      "cell_type": "code",
      "source": [
        "len(x)"
      ],
      "metadata": {
        "id": "FaXqrB2QgI_Z",
        "outputId": "dfad09d2-c043-4b74-fd32-d88f37fdbcdd",
        "colab": {
          "base_uri": "https://localhost:8080/"
        }
      },
      "execution_count": 13,
      "outputs": [
        {
          "output_type": "execute_result",
          "data": {
            "text/plain": [
              "3"
            ]
          },
          "metadata": {},
          "execution_count": 13
        }
      ]
    },
    {
      "cell_type": "code",
      "source": [
        "x.append(100)\n",
        "print(x)\n",
        "print(len(x))"
      ],
      "metadata": {
        "id": "WXIbbsUAgI4v",
        "outputId": "802c46fc-4726-4e46-cedd-32e3b15b2616",
        "colab": {
          "base_uri": "https://localhost:8080/"
        }
      },
      "execution_count": 16,
      "outputs": [
        {
          "output_type": "stream",
          "name": "stdout",
          "text": [
            "[5, 'hello', 1.8, 100]\n",
            "4\n"
          ]
        }
      ]
    },
    {
      "cell_type": "code",
      "source": [
        "x[1] = \"deep\"\n",
        "print(x)"
      ],
      "metadata": {
        "id": "aH9MJi2-gIr5",
        "outputId": "3a5eea41-d904-4cfe-f426-569816fd5ba1",
        "colab": {
          "base_uri": "https://localhost:8080/"
        }
      },
      "execution_count": 17,
      "outputs": [
        {
          "output_type": "stream",
          "name": "stdout",
          "text": [
            "[5, 'deep', 1.8, 100]\n"
          ]
        }
      ]
    },
    {
      "cell_type": "code",
      "source": [
        "y = [2.1, \"learning\"]\n",
        "z= x + y\n",
        "print(z)"
      ],
      "metadata": {
        "id": "3DKNqi2Ohg7W",
        "outputId": "90627caf-9359-42d7-bfc0-29911093eafb",
        "colab": {
          "base_uri": "https://localhost:8080/"
        }
      },
      "execution_count": 18,
      "outputs": [
        {
          "output_type": "stream",
          "name": "stdout",
          "text": [
            "[5, 'deep', 1.8, 100, 2.1, 'learning']\n"
          ]
        }
      ]
    },
    {
      "cell_type": "code",
      "source": [
        "x = [5, \"deep\", 1.8]\n",
        "print(\"First element -->   x[0]: \", x[0])\n",
        "print(\"Second element -->  x[1]: \", x[1])\n",
        "print(\"Last element -->    x[-1]: \", x[-1])\n",
        "print(\"Seond from last position element -->    x[-2]: \", x[-2])"
      ],
      "metadata": {
        "id": "YxzcbDAshg4n",
        "outputId": "8aef83a0-4c47-4264-ca7f-c4f518498d44",
        "colab": {
          "base_uri": "https://localhost:8080/"
        }
      },
      "execution_count": 20,
      "outputs": [
        {
          "output_type": "stream",
          "name": "stdout",
          "text": [
            "First element -->   x[0]:  5\n",
            "Second element -->  x[1]:  deep\n",
            "Last element -->    x[-1]:  1.8\n",
            "Seond from last position element -->    x[-2]:  deep\n"
          ]
        }
      ]
    },
    {
      "cell_type": "code",
      "source": [
        "print(\"All elements -->    x[:]: \", x[:])\n",
        "print(\"From index 1 to end -->    x[1:]: \", x[1:])\n",
        "print(\"Index 1 to index 2 -->    x[1:2]: \", x[1:2])\n",
        "print(\" All but last -->    x[:-1]: \", x[:-1])"
      ],
      "metadata": {
        "id": "J-1SA-0fhg1m",
        "outputId": "d8eb2c80-9439-47f0-cf1e-a2e852119d49",
        "colab": {
          "base_uri": "https://localhost:8080/"
        }
      },
      "execution_count": 21,
      "outputs": [
        {
          "output_type": "stream",
          "name": "stdout",
          "text": [
            "All elements -->    x[:]:  [5, 'deep', 1.8]\n",
            "From index 1 to end -->    x[1:]:  ['deep', 1.8]\n",
            "Index 1 to index 2 -->    x[1:2]:  ['deep']\n",
            " All but last -->    x[:-1]:  [5, 'deep']\n"
          ]
        }
      ]
    },
    {
      "cell_type": "markdown",
      "source": [
        "Tupples"
      ],
      "metadata": {
        "id": "6zKMcUAUlZfx"
      }
    },
    {
      "cell_type": "code",
      "source": [
        "x = (1, \"deep\", 3)\n",
        "print(x)\n",
        "print(x[1])"
      ],
      "metadata": {
        "id": "BoR27JFBhgy2",
        "outputId": "461b4070-e0e3-4335-e207-9b19655002ad",
        "colab": {
          "base_uri": "https://localhost:8080/"
        }
      },
      "execution_count": 22,
      "outputs": [
        {
          "output_type": "stream",
          "name": "stdout",
          "text": [
            "(1, 'deep', 3)\n",
            "deep\n"
          ]
        }
      ]
    },
    {
      "cell_type": "code",
      "source": [
        "x=x+(4,\"learning\")\n",
        "print(x)\n",
        "print(x[-1])"
      ],
      "metadata": {
        "id": "b9p-b7VbhgwO",
        "outputId": "02d3fe51-acfb-44c5-b062-d6000feb77d1",
        "colab": {
          "base_uri": "https://localhost:8080/"
        }
      },
      "execution_count": 23,
      "outputs": [
        {
          "output_type": "stream",
          "name": "stdout",
          "text": [
            "(1, 'deep', 3, 4, 'learning')\n",
            "learning\n"
          ]
        }
      ]
    },
    {
      "cell_type": "markdown",
      "source": [
        "Dictionary"
      ],
      "metadata": {
        "id": "nd5evX1elw4J"
      }
    },
    {
      "cell_type": "code",
      "source": [
        "persona ={\n",
        "    \"Name\" : \"Paty Tasso\",\n",
        "    \"profesion\" : \"Being Cool\"\n",
        "}\n",
        "print(persona)\n",
        "print(persona[\"Name\"])\n",
        "print(persona[\"profesion\"])"
      ],
      "metadata": {
        "id": "sEuaFgfBhgtb",
        "outputId": "50d7c930-0966-40c2-abe9-0556c98b487b",
        "colab": {
          "base_uri": "https://localhost:8080/"
        }
      },
      "execution_count": 42,
      "outputs": [
        {
          "output_type": "stream",
          "name": "stdout",
          "text": [
            "{'Name': 'Paty Tasso', 'profesion': 'Being Cool'}\n",
            "Paty Tasso\n",
            "Being Cool\n"
          ]
        }
      ]
    },
    {
      "cell_type": "code",
      "source": [
        "persona[\"profesion\"] = \"Being cooler than cool\"\n",
        "print(persona)"
      ],
      "metadata": {
        "id": "-h-xROQlhgqn",
        "outputId": "4465d3e8-abe7-4d3b-bf47-c14ebbab23b8",
        "colab": {
          "base_uri": "https://localhost:8080/"
        }
      },
      "execution_count": 28,
      "outputs": [
        {
          "output_type": "stream",
          "name": "stdout",
          "text": [
            "{'Name': 'Paty Tasso', 'profesion': 'Being cooler than cool'}\n"
          ]
        }
      ]
    },
    {
      "cell_type": "code",
      "source": [
        "persona[\"group\"] = 42\n",
        "print(persona)"
      ],
      "metadata": {
        "id": "VjtygR1vhgnr",
        "outputId": "e44d44c8-a798-48bc-d40b-180f0583f2fd",
        "colab": {
          "base_uri": "https://localhost:8080/"
        }
      },
      "execution_count": 29,
      "outputs": [
        {
          "output_type": "stream",
          "name": "stdout",
          "text": [
            "{'Name': 'Paty Tasso', 'profesion': 'Being cooler than cool', 'group': 42}\n"
          ]
        }
      ]
    },
    {
      "cell_type": "code",
      "source": [
        "print(len(persona))"
      ],
      "metadata": {
        "id": "wKw3xD7vhglG",
        "outputId": "8f95dcfe-43e7-43a9-9fcd-49610fab1f44",
        "colab": {
          "base_uri": "https://localhost:8080/"
        }
      },
      "execution_count": 30,
      "outputs": [
        {
          "output_type": "stream",
          "name": "stdout",
          "text": [
            "3\n"
          ]
        }
      ]
    },
    {
      "cell_type": "markdown",
      "source": [
        "3.1.5 Flux control sentences"
      ],
      "metadata": {
        "id": "9DzjTX89nJ7p"
      }
    },
    {
      "cell_type": "markdown",
      "source": [
        "If"
      ],
      "metadata": {
        "id": "0_qjWLWlnR_q"
      }
    },
    {
      "cell_type": "code",
      "source": [
        "x = 6.5\n",
        "if x < 5:\n",
        "  puntuacion = \"low\"\n",
        "elif x <=7 :\n",
        "  puntuacion = \"medium\"\n",
        "else:\n",
        "  puntuacion = \"high\"\n",
        "print(puntuacion)"
      ],
      "metadata": {
        "id": "Z9K_y-V3nI_v",
        "outputId": "f78834d8-27ae-43b6-bb49-cde9af4e58c0",
        "colab": {
          "base_uri": "https://localhost:8080/"
        }
      },
      "execution_count": 31,
      "outputs": [
        {
          "output_type": "stream",
          "name": "stdout",
          "text": [
            "medium\n"
          ]
        }
      ]
    },
    {
      "cell_type": "code",
      "source": [
        "x = True\n",
        "if x:\n",
        "  print(\"The condition is true\")"
      ],
      "metadata": {
        "id": "TeKcT7DInxHa",
        "outputId": "65b760ca-719e-49ad-fb76-5094bf2e320d",
        "colab": {
          "base_uri": "https://localhost:8080/"
        }
      },
      "execution_count": 32,
      "outputs": [
        {
          "output_type": "stream",
          "name": "stdout",
          "text": [
            "The condition is true\n"
          ]
        }
      ]
    },
    {
      "cell_type": "code",
      "source": [
        "a = 20 \n",
        "if a >= 22:\n",
        "  print(\"Paris\")\n",
        "elif a <= 21:\n",
        "  print(\"Barcelona\")\n"
      ],
      "metadata": {
        "id": "8L7vCcSnnxEq",
        "outputId": "3453159f-8316-4896-85a0-db475ecaeb33",
        "colab": {
          "base_uri": "https://localhost:8080/"
        }
      },
      "execution_count": 33,
      "outputs": [
        {
          "output_type": "stream",
          "name": "stdout",
          "text": [
            "Barcelona\n"
          ]
        }
      ]
    },
    {
      "cell_type": "code",
      "source": [
        "b = 1 \n",
        "print(\"Paris\" if b >= 92 else \"Barcelona\")"
      ],
      "metadata": {
        "id": "vtlDWMIQnxCG",
        "outputId": "ffe6e30c-def7-4720-89b5-c6ad488e3abf",
        "colab": {
          "base_uri": "https://localhost:8080/"
        }
      },
      "execution_count": 34,
      "outputs": [
        {
          "output_type": "stream",
          "name": "stdout",
          "text": [
            "Barcelona\n"
          ]
        }
      ]
    },
    {
      "cell_type": "markdown",
      "source": [
        "For loop"
      ],
      "metadata": {
        "id": "mykumPfAoohE"
      }
    },
    {
      "cell_type": "code",
      "source": [
        "for a in range (1,4):\n",
        "  print(a)"
      ],
      "metadata": {
        "id": "lWIwYA3Inw-9",
        "outputId": "f960fb13-472e-4852-9f17-62b2d52604a7",
        "colab": {
          "base_uri": "https://localhost:8080/"
        }
      },
      "execution_count": 35,
      "outputs": [
        {
          "output_type": "stream",
          "name": "stdout",
          "text": [
            "1\n",
            "2\n",
            "3\n"
          ]
        }
      ]
    },
    {
      "cell_type": "code",
      "source": [
        "Universities = [ \"UPC\", \"UDG\", \"UVIC\",\"UAB\", \"UB\"]\n",
        "for university in Universities:\n",
        "  print(university)"
      ],
      "metadata": {
        "id": "YNeaE1KAnw8P",
        "outputId": "4f6abc7f-6288-42ec-f99a-599148c0ba86",
        "colab": {
          "base_uri": "https://localhost:8080/"
        }
      },
      "execution_count": 37,
      "outputs": [
        {
          "output_type": "stream",
          "name": "stdout",
          "text": [
            "UPC\n",
            "UDG\n",
            "UVIC\n",
            "UAB\n",
            "UB\n"
          ]
        }
      ]
    },
    {
      "cell_type": "code",
      "source": [
        "for university in Universities:\n",
        "  if university == \"UVIC\":\n",
        "    break\n",
        "  print(university)"
      ],
      "metadata": {
        "id": "peVpYuxdnw5G",
        "outputId": "7945f724-cea6-456b-8933-b81cd0b1c7bf",
        "colab": {
          "base_uri": "https://localhost:8080/"
        }
      },
      "execution_count": 39,
      "outputs": [
        {
          "output_type": "stream",
          "name": "stdout",
          "text": [
            "UPC\n",
            "UDG\n"
          ]
        }
      ]
    },
    {
      "cell_type": "code",
      "source": [
        "for university in Universities:\n",
        "  if university == \"UVIC\":\n",
        "    continue\n",
        "  print(university)"
      ],
      "metadata": {
        "id": "GNvnhJPtnw2W",
        "outputId": "d4c48611-2557-4086-f88b-a8d4988c7fc8",
        "colab": {
          "base_uri": "https://localhost:8080/"
        }
      },
      "execution_count": 40,
      "outputs": [
        {
          "output_type": "stream",
          "name": "stdout",
          "text": [
            "UPC\n",
            "UDG\n",
            "UAB\n",
            "UB\n"
          ]
        }
      ]
    },
    {
      "cell_type": "markdown",
      "source": [
        "While loop"
      ],
      "metadata": {
        "id": "zHztzw_opiuw"
      }
    },
    {
      "cell_type": "code",
      "source": [
        "x = 3\n",
        "while x > 0:\n",
        "  x = x - 1\n",
        "  print(x)"
      ],
      "metadata": {
        "id": "O8HXUgmbnwzS",
        "outputId": "90b93f29-539f-4b55-ab3d-b23a81215e38",
        "colab": {
          "base_uri": "https://localhost:8080/"
        }
      },
      "execution_count": 41,
      "outputs": [
        {
          "output_type": "stream",
          "name": "stdout",
          "text": [
            "2\n",
            "1\n",
            "0\n"
          ]
        }
      ]
    },
    {
      "cell_type": "markdown",
      "source": [
        "3.1.6 Functions"
      ],
      "metadata": {
        "id": "DnrXGsg0qIr8"
      }
    },
    {
      "cell_type": "code",
      "source": [
        "def my_university(university = \"UPC\"):\n",
        "  y= \"My university is \" + university\n",
        "  return(y)\n",
        "\n",
        "print(my_university(\"UAB\"))\n",
        "print(my_university())\n",
        "print(my_university(university=\"UPV\"))"
      ],
      "metadata": {
        "id": "PkAB_D83nwwh",
        "outputId": "d0183d9a-80d9-415b-a673-4b80bf908040",
        "colab": {
          "base_uri": "https://localhost:8080/"
        }
      },
      "execution_count": 43,
      "outputs": [
        {
          "output_type": "stream",
          "name": "stdout",
          "text": [
            "My university is UAB\n",
            "My university is UPC\n",
            "My university is UPV\n"
          ]
        }
      ]
    },
    {
      "cell_type": "code",
      "source": [
        "def foo():\n",
        "  a,b =4,5\n",
        "  return(a,b)\n",
        "foo()"
      ],
      "metadata": {
        "id": "BKKIrqR7nwtx",
        "outputId": "662b1e7b-e5d1-45c7-f7f2-fcb2a0247776",
        "colab": {
          "base_uri": "https://localhost:8080/"
        }
      },
      "execution_count": 44,
      "outputs": [
        {
          "output_type": "execute_result",
          "data": {
            "text/plain": [
              "(4, 5)"
            ]
          },
          "metadata": {},
          "execution_count": 44
        }
      ]
    },
    {
      "cell_type": "code",
      "source": [
        "fibonacci = (lambda x:1 if x <=2 else fibonacci(x-1) + fibonacci(x-2))\n",
        "fibonacci(10)"
      ],
      "metadata": {
        "id": "E_pC85donwrG",
        "outputId": "1a3cc4d5-2dee-4aac-a219-48aa956ab43f",
        "colab": {
          "base_uri": "https://localhost:8080/"
        }
      },
      "execution_count": 45,
      "outputs": [
        {
          "output_type": "execute_result",
          "data": {
            "text/plain": [
              "55"
            ]
          },
          "metadata": {},
          "execution_count": 45
        }
      ]
    },
    {
      "cell_type": "markdown",
      "source": [
        "Classes"
      ],
      "metadata": {
        "id": "qZ4E2-kLxdEM"
      }
    },
    {
      "cell_type": "code",
      "source": [
        "class Calculadora (object):\n",
        "  \"\"\" Class of a Calculator\"\"\"\n",
        "  def __init__(self):\n",
        "    \"\"\"Initialization of the calculator class\"\"\"\n",
        "    self.valor = 0\n",
        "  def suma (self, n):\n",
        "    \"\"\" Dma un numero n al valor \"\"\"\n",
        "    self.valor += n\n",
        "  def getValor(self):\n",
        "    \"\"\"Obtai the value \"\"\"\n",
        "    return self.valor"
      ],
      "metadata": {
        "id": "6LcG2qAHxeWF"
      },
      "execution_count": 46,
      "outputs": []
    },
    {
      "cell_type": "code",
      "source": [
        ""
      ],
      "metadata": {
        "id": "T57FlXJNxeTK"
      },
      "execution_count": null,
      "outputs": []
    },
    {
      "cell_type": "code",
      "source": [
        ""
      ],
      "metadata": {
        "id": "mchVHcBDxeQ4"
      },
      "execution_count": null,
      "outputs": []
    },
    {
      "cell_type": "code",
      "source": [
        ""
      ],
      "metadata": {
        "id": "xly3BdkExeOE"
      },
      "execution_count": null,
      "outputs": []
    },
    {
      "cell_type": "code",
      "source": [
        ""
      ],
      "metadata": {
        "id": "CceVoxHExeLL"
      },
      "execution_count": null,
      "outputs": []
    },
    {
      "cell_type": "code",
      "source": [
        ""
      ],
      "metadata": {
        "id": "pjXOsY-Hxdkm"
      },
      "execution_count": null,
      "outputs": []
    },
    {
      "cell_type": "code",
      "source": [
        ""
      ],
      "metadata": {
        "id": "p8A-N8ZHnwoL"
      },
      "execution_count": null,
      "outputs": []
    }
  ]
}