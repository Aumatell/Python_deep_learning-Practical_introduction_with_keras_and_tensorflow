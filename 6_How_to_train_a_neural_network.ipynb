{
  "nbformat": 4,
  "nbformat_minor": 0,
  "metadata": {
    "colab": {
      "name": "6.How_to_train_a_neural_network.ipynb",
      "provenance": [],
      "authorship_tag": "ABX9TyO0mFEgor0t33wEVr9JUmGw",
      "include_colab_link": true
    },
    "kernelspec": {
      "name": "python3",
      "display_name": "Python 3"
    },
    "language_info": {
      "name": "python"
    }
  },
  "cells": [
    {
      "cell_type": "markdown",
      "metadata": {
        "id": "view-in-github",
        "colab_type": "text"
      },
      "source": [
        "<a href=\"https://colab.research.google.com/github/Aumatell/Python_deep_learning-Practical_introduction_with_keras_and_tensorflow/blob/main/6_How_to_train_a_neural_network.ipynb\" target=\"_parent\"><img src=\"https://colab.research.google.com/assets/colab-badge.svg\" alt=\"Open In Colab\"/></a>"
      ]
    },
    {
      "cell_type": "markdown",
      "source": [
        "6.1 Learning process of a neural network\n",
        "6.1.1 General vision\n",
        "6.1.2 Iterative learning process of a nural network\n",
        "6.1.3 Key pieces in backpropagation process\n"
      ],
      "metadata": {
        "id": "GGnefxc0xTpv"
      }
    },
    {
      "cell_type": "code",
      "execution_count": null,
      "metadata": {
        "id": "U34CYzmPxRex"
      },
      "outputs": [],
      "source": [
        "model.compile(loss='categorical_crossentropy',\n",
        "              optimizer='sgd',\n",
        "              metrics=['accuracy'])"
      ]
    },
    {
      "cell_type": "markdown",
      "source": [
        "6.2 Gradient descens\n",
        "6.2.1 Gradient descens basic algorithm\n",
        "6.2.2 gradient descens types"
      ],
      "metadata": {
        "id": "OipEQy_VxSzb"
      }
    },
    {
      "cell_type": "code",
      "source": [
        "model.fit(x_train, y_train, epoch = 5, batch_size=100)"
      ],
      "metadata": {
        "id": "EDoPumTqyCXt"
      },
      "execution_count": null,
      "outputs": []
    },
    {
      "cell_type": "markdown",
      "source": [
        "6.3 Loss function\n",
        "\n",
        "---\n",
        "\n",
        "\n",
        "\n",
        "*   Multiple classification with on-hot \n",
        "Activation function -> softmax Loss function -> categorical_crossentropy\n",
        "*   List item\n",
        "\n"
      ],
      "metadata": {
        "id": "kcwOT23ByDPK"
      }
    }
  ]
}