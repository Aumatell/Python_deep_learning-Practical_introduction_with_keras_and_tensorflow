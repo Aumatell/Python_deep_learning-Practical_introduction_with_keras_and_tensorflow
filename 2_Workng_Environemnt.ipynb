{
  "nbformat": 4,
  "nbformat_minor": 0,
  "metadata": {
    "colab": {
      "name": "2-Workng_Environemnt.ipynb",
      "provenance": [],
      "toc_visible": true,
      "authorship_tag": "ABX9TyPvTSxqKJcB3LIjjhXspssa",
      "include_colab_link": true
    },
    "kernelspec": {
      "name": "python3",
      "display_name": "Python 3"
    },
    "language_info": {
      "name": "python"
    },
    "accelerator": "GPU"
  },
  "cells": [
    {
      "cell_type": "markdown",
      "metadata": {
        "id": "view-in-github",
        "colab_type": "text"
      },
      "source": [
        "<a href=\"https://colab.research.google.com/github/Aumatell/Python_deep_learning-Practical_introduction_with_keras_and_tensorflow/blob/main/2_Workng_Environemnt.ipynb\" target=\"_parent\"><img src=\"https://colab.research.google.com/assets/colab-badge.svg\" alt=\"Open In Colab\"/></a>"
      ]
    },
    {
      "cell_type": "markdown",
      "source": [
        "Enviroment\n",
        "\n",
        "\n",
        "---\n",
        "\n"
      ],
      "metadata": {
        "id": "Y8hARumTmAJk"
      }
    },
    {
      "cell_type": "markdown",
      "source": [
        "Import tensorflow"
      ],
      "metadata": {
        "id": "TSLXXfVgmJs0"
      }
    },
    {
      "cell_type": "code",
      "source": [
        "% tensorflow_version 2.x"
      ],
      "metadata": {
        "id": "Qc6ytpDgmTos"
      },
      "execution_count": 4,
      "outputs": []
    },
    {
      "cell_type": "markdown",
      "source": [
        "Name tensorflow as tf"
      ],
      "metadata": {
        "id": "YmYIVbJ0nYxo"
      }
    },
    {
      "cell_type": "code",
      "source": [
        "import tensorflow as tf"
      ],
      "metadata": {
        "id": "cqbVpFRQmb_0"
      },
      "execution_count": 5,
      "outputs": []
    },
    {
      "cell_type": "markdown",
      "source": [
        "Chech if there is a GPU avaiable"
      ],
      "metadata": {
        "id": "i36DGn6PnQ3W"
      }
    },
    {
      "cell_type": "code",
      "source": [
        "print(\"GPU Aviable: \", tf.test.is_gpu_available())"
      ],
      "metadata": {
        "colab": {
          "base_uri": "https://localhost:8080/"
        },
        "id": "fvnrciGTm5zF",
        "outputId": "62e94a06-54ff-47c2-ee8b-22be19b40570"
      },
      "execution_count": 6,
      "outputs": [
        {
          "output_type": "stream",
          "name": "stdout",
          "text": [
            "WARNING:tensorflow:From <ipython-input-6-0022b054f4e3>:1: is_gpu_available (from tensorflow.python.framework.test_util) is deprecated and will be removed in a future version.\n",
            "Instructions for updating:\n",
            "Use `tf.config.list_physical_devices('GPU')` instead.\n",
            "GPU Aviable:  True\n"
          ]
        }
      ]
    },
    {
      "cell_type": "code",
      "source": [
        "print(tf.__version__)"
      ],
      "metadata": {
        "colab": {
          "base_uri": "https://localhost:8080/"
        },
        "id": "1VLeYx0SnPxc",
        "outputId": "9f2f5d57-74da-4dbe-9b1f-cb9de6bcd54e"
      },
      "execution_count": 8,
      "outputs": [
        {
          "output_type": "stream",
          "name": "stdout",
          "text": [
            "2.7.0\n"
          ]
        }
      ]
    },
    {
      "cell_type": "markdown",
      "source": [
        "Import Keras"
      ],
      "metadata": {
        "id": "gOBex2T3oDBz"
      }
    },
    {
      "cell_type": "code",
      "source": [
        "from tensorflow import keras"
      ],
      "metadata": {
        "id": "94X2Z90RngtG"
      },
      "execution_count": 9,
      "outputs": []
    },
    {
      "cell_type": "code",
      "source": [
        "print(keras.__version__)"
      ],
      "metadata": {
        "colab": {
          "base_uri": "https://localhost:8080/"
        },
        "id": "7SV_r-UroL62",
        "outputId": "1807ecfb-6bb2-498a-b12b-11293f073504"
      },
      "execution_count": 10,
      "outputs": [
        {
          "output_type": "stream",
          "name": "stdout",
          "text": [
            "2.7.0\n"
          ]
        }
      ]
    },
    {
      "cell_type": "code",
      "source": [
        ""
      ],
      "metadata": {
        "id": "zZfFH2QzoQ0m"
      },
      "execution_count": null,
      "outputs": []
    }
  ]
}